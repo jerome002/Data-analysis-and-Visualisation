{
 "cells": [
  {
   "cell_type": "markdown",
   "id": "1588cf5b-4f89-4e93-9559-b8af16206298",
   "metadata": {},
   "source": [
    "## 7️⃣ Insights & Reporting\n",
    "\n",
    "### 🎯 Goal: Summarize Key Findings for Kenya, Uganda, and Tanzania\n",
    "\n",
    "---\n",
    "\n",
    "### ✅ Key Insights:\n",
    "\n",
    "1. **Kenya** reported the highest number of total COVID-19 cases among the three countries by the latest available data.\n",
    "2. **Uganda** showed a more stable trend in daily new cases compared to Kenya and Tanzania, with fewer sharp spikes.\n",
    "3. **Tanzania** had limited or inconsistent reporting, especially during the early phases of the pandemic, resulting in gaps in key indicators like daily cases and vaccinations.\n",
    "4. **Vaccination progress** was most significant in **Kenya**, followed by **Uganda**, while **Tanzania** had much lower reported vaccination rates.\n",
    "5. The **death rate** in all three countries remained relatively low, but this may reflect differences in testing, reporting standards, or healthcare access.\n",
    "\n",
    "---\n",
    "\n",
    "### 🧠 Observations & Anomalies\n",
    "\n",
    "- **Tanzania** paused COVID-19 reporting in 2020–2021, which explains visible gaps or flatlines in the data.\n",
    "- Sudden spikes in **Kenya's** new case counts suggest batch updates or possible underreporting during certain periods.\n",
    "- **Uganda** showed consistent improvements in vaccination rollout beginning in mid-2021.\n",
    "- All three countries had relatively low reported deaths per 100,000 people compared to global averages—possibly due to younger population demographics or limited testing.\n",
    "\n",
    "---\n",
    "\n",
    "### 📌 Recommendations for Further Analysis:\n",
    "\n",
    "- Incorporate testing data (`total_tests`, `positive_rate`) to evaluate the true scale of underreporting.\n",
    "- Use `people_fully_vaccinated_per_hundred` for a more accurate vaccination coverage metric.\n",
    "- Compare mobility or lockdown stringency indices with case trends (available via Oxford COVID-19 Government Response Tracker).\n",
    "\n"
   ]
  }
 ],
 "metadata": {
  "kernelspec": {
   "display_name": "Python 3 (ipykernel)",
   "language": "python",
   "name": "python3"
  },
  "language_info": {
   "codemirror_mode": {
    "name": "ipython",
    "version": 3
   },
   "file_extension": ".py",
   "mimetype": "text/x-python",
   "name": "python",
   "nbconvert_exporter": "python",
   "pygments_lexer": "ipython3",
   "version": "3.13.3"
  }
 },
 "nbformat": 4,
 "nbformat_minor": 5
}
